{
 "cells": [
  {
   "cell_type": "code",
   "execution_count": 1,
   "metadata": {},
   "outputs": [],
   "source": [
    "# importing libs\n",
    "import pandas as pd\n",
    "import numpy as np"
   ]
  },
  {
   "cell_type": "markdown",
   "metadata": {},
   "source": [
    "## 1. Writing efficient Python code\n",
    "\n",
    "### 1.1 Defining efficient \n",
    "\n",
    "* Minimal completion time (fast runtime)\n",
    "* Minimal resource consumption (small memory footprint)\n",
    "\n",
    "### 1.2 Defining Pythonic\n",
    "* Focus on readability\n",
    "* Using Python's constructs as intended"
   ]
  },
  {
   "cell_type": "code",
   "execution_count": 2,
   "metadata": {},
   "outputs": [
    {
     "name": "stdout",
     "output_type": "stream",
     "text": [
      "Print the list created using the Non-Pythonic approach\n",
      "['Kramer', 'Elaine', 'George', 'Newman'] \n",
      "\n",
      "Print the list created by looping over the contents of names\n",
      "['Kramer', 'Elaine', 'George', 'Newman'] \n",
      "\n",
      "The best Pythonic way of doing this is by using list comprehension.\n",
      "['Kramer', 'Elaine', 'George', 'Newman']\n"
     ]
    }
   ],
   "source": [
    "# Print the list created using the Non-Pythonic approach\n",
    "\n",
    "names = ['Jerry', 'Kramer', 'Elaine', 'George', 'Newman']\n",
    "\n",
    "i = 0\n",
    "new_list = []\n",
    "while i < len(names):\n",
    "    if len(names[i]) >= 6:\n",
    "        new_list.append(names[i])\n",
    "    i += 1\n",
    "\n",
    "print(\"Print the list created using the Non-Pythonic approach\")\n",
    "print(new_list, \"\\n\")\n",
    "\n",
    "# Print the list created by looping over the contents of names\n",
    "better_list = []\n",
    "for name in names:\n",
    "    if len(name) >= 6:\n",
    "        better_list.append(name)\n",
    "print(\"Print the list created by looping over the contents of names\")\n",
    "print(better_list, \"\\n\")\n",
    "\n",
    "#The best Pythonic way of doing this is by using list comprehension.\n",
    "best_list = [name for name in names if len(name) >= 6]\n",
    "print(\"The best Pythonic way of doing this is by using list comprehension.\")\n",
    "print(best_list)\n"
   ]
  },
  {
   "cell_type": "code",
   "execution_count": 3,
   "metadata": {},
   "outputs": [
    {
     "name": "stdout",
     "output_type": "stream",
     "text": [
      "The Zen of Python, by Tim Peters\n",
      "\n",
      "Beautiful is better than ugly.\n",
      "Explicit is better than implicit.\n",
      "Simple is better than complex.\n",
      "Complex is better than complicated.\n",
      "Flat is better than nested.\n",
      "Sparse is better than dense.\n",
      "Readability counts.\n",
      "Special cases aren't special enough to break the rules.\n",
      "Although practicality beats purity.\n",
      "Errors should never pass silently.\n",
      "Unless explicitly silenced.\n",
      "In the face of ambiguity, refuse the temptation to guess.\n",
      "There should be one-- and preferably only one --obvious way to do it.\n",
      "Although that way may not be obvious at first unless you're Dutch.\n",
      "Now is better than never.\n",
      "Although never is often better than *right* now.\n",
      "If the implementation is hard to explain, it's a bad idea.\n",
      "If the implementation is easy to explain, it may be a good idea.\n",
      "Namespaces are one honking great idea -- let's do more of those!\n"
     ]
    }
   ],
   "source": [
    "# Zen of Python\n",
    "import this\n",
    "### 1.3 Building with built-ins"
   ]
  },
  {
   "cell_type": "markdown",
   "metadata": {},
   "source": [
    "* Built-in types\n",
    "  * list, tuple, set, dict and others.\n",
    "* Built-in functions\n",
    "  * print() , len() , range() , round() , enumerate() , map() , zip() , and others.\n",
    "* Built-in modules \n",
    "  * os , sys , itertools , collections , math , and others.\n",
    "\n",
    "1.3.1 Built-in functions\n",
    "### range() \n",
    "```codeblock\n",
    "  # Explicitly typing a list of numbers \n",
    "  nums = [0, 1, 2, 3, 4, 5, 6, 7, 8, 9, 10]\n",
    "\n",
    "  #Using range() to create the same list \n",
    "  range(start,stop) \n",
    "  nums = range(0,11) \n",
    "  nums_list = list(nums) \n",
    "  # output: [0, 1, 2, 3, 4, 5, 6, 7, 8, 9, 10] \n",
    "\n",
    "  # Using range() with a step value\n",
    "  even_nums = range(2, 11, 2) \n",
    "  even_nums_list = list(even_nums) \n",
    "  # output: [2, 4, 6, 8, 10] \n",
    "```\n",
    "\n",
    "### enumerate()\n",
    "\n",
    "Creates an indexed list of objects \n",
    "```codeblock\n",
    "  letters = ['a', 'b', 'c', 'd' ]\n",
    "  indexed_letters = enumerate(letters)\n",
    "  indexed_letters_list = list(indexed_letters) print(indexed_letters_list) \n",
    "  # output: [(0, 'a'), (1, 'b'), (2, 'c'), (3, 'd')] \n",
    "```\n",
    "\n",
    "Can specify a start value \n",
    "```codeblock\n",
    "  letters = ['a', 'b', 'c', 'd' ]\n",
    "  indexed_letters2 = enumerate(letters, start=5)\n",
    "  indexed_letters2_list = list(indexed_letters2)\n",
    "  # output: [(5, 'a'), (6, 'b'), (7, 'c'), (8, 'd')] \n",
    "```\n",
    "\n",
    "### map()\n",
    "\n",
    "Applies a function over an object \n",
    "```codeblock\n",
    "  nums = [1.5, 2.3, 3.4, 4.6, 5.0] \n",
    "  rnd_nums = list(map(round, nums))\n",
    "  output: [2, 2, 3, 5, 5] \n",
    "```\n",
    "with lambda (anonymous function) \n",
    "```codeblock\n",
    "  nums = [1, 2, 3, 4, 5] \n",
    "  sqrd_nums = list(map(lambda x: x ** 2, nums))\n",
    "  output: [1, 4, 9, 16, 25] \n",
    "```"
   ]
  },
  {
   "cell_type": "code",
   "execution_count": 4,
   "metadata": {},
   "outputs": [
    {
     "name": "stdout",
     "output_type": "stream",
     "text": [
      "<class 'range'>\n",
      "[0, 1, 2, 3, 4, 5]\n",
      "[1, 3, 5, 7, 9, 11]\n"
     ]
    }
   ],
   "source": [
    "# Example with range()\n",
    "\n",
    "# Create a range object that goes from 0 to 5\n",
    "nums = range(0, 6)\n",
    "print(type(nums))\n",
    "\n",
    "# Convert nums to a list\n",
    "nums_list = list(nums)\n",
    "print(nums_list)\n",
    "\n",
    "# Create a new list of odd numbers from 1 to 11 by unpacking a range object, (*) unpacking a range object using the star character (*).\n",
    "nums_list2 = [*range(1, 12, 2)]\n",
    "print(nums_list2)"
   ]
  },
  {
   "cell_type": "code",
   "execution_count": 5,
   "metadata": {},
   "outputs": [
    {
     "name": "stdout",
     "output_type": "stream",
     "text": [
      "[(0, 'Jerry'), (1, 'Kramer'), (2, 'Elaine'), (3, 'George'), (4, 'Newman')]\n",
      "[(0, 'Jerry'), (1, 'Kramer'), (2, 'Elaine'), (3, 'George'), (4, 'Newman')]\n",
      "[(1, 'Jerry'), (2, 'Kramer'), (3, 'Elaine'), (4, 'George'), (5, 'Newman')]\n"
     ]
    }
   ],
   "source": [
    "# Example with enumerate  ()\n",
    "names = ['Jerry', 'Kramer', 'Elaine', 'George', 'Newman']\n",
    "\n",
    "# Rewrite the for loop to use enumerate\n",
    "indexed_names = []\n",
    "for i, name in enumerate(names):\n",
    "    index_name = (i,name)\n",
    "    indexed_names.append(index_name) \n",
    "print(indexed_names)\n",
    "\n",
    "# Rewrite the above for loop using list comprehension\n",
    "indexed_names_comp = [(i, name) for i,name in enumerate(names)]\n",
    "print(indexed_names_comp)\n",
    "\n",
    "# Unpack an enumerate object with a starting index of one\n",
    "indexed_names_unpack = [*enumerate(names, start=1)]\n",
    "print(indexed_names_unpack)"
   ]
  },
  {
   "cell_type": "code",
   "execution_count": 6,
   "metadata": {},
   "outputs": [
    {
     "name": "stdout",
     "output_type": "stream",
     "text": [
      "['JERRY', 'KRAMER', 'ELAINE', 'GEORGE', 'NEWMAN']\n",
      "[]\n"
     ]
    }
   ],
   "source": [
    "# Example with map  ()\n",
    "names = ['Jerry', 'Kramer', 'Elaine', 'George', 'Newman']\n",
    "\n",
    "# Use map to apply str.upper to each element in names\n",
    "names_map  = map(str.upper, names)\n",
    "\n",
    "# Print the type of the names_map\n",
    "print(list(names_map))\n",
    "\n",
    "# Unpack names_map into a list\n",
    "names_uppercase = [*names_map]\n",
    "\n",
    "# Print the list created above / not work\n",
    "print(names_uppercase)"
   ]
  },
  {
   "cell_type": "markdown",
   "metadata": {},
   "source": [
    "### 1.4 The power of NumPy arrays\n",
    "Alternative to Python lists\n",
    "\n",
    "```codeblock\n",
    "    nums_list = list(range(5)) #output [0,1,2,3,4]\n",
    "\n",
    "    nums_np = np.array(range(5))  #output array([0,1,2,3,4])\n",
    "```\n",
    "\n",
    "1. NumPy array homogeneity = unique type \n",
    "2. NumPy array broadcasting \n",
    "   ```codeblock\n",
    "   # Python lists don't support broadcasting\n",
    "   nums = [-2, -1, 0, 1, 2] \n",
    "   nums ** 2 \n",
    "   output: TypeError: unsupported operand type(s) for ** or pow(): 'list' and 'int' \n",
    "\n",
    "    # List comprehension (better option but not best) \n",
    "    nums = [-2, -1, 0, 1, 2] \n",
    "    sqrd_nums  = [num ** 2 for num in nums] \n",
    "    output: [4, 1, 0, 1, 4] \n",
    "\n",
    "    #NumPy array broadcasting for the win! \n",
    "    nums_np = np.array([-2, -1, 0, 1, 2]) \n",
    "    nums_np ** 2 \n",
    "    \n",
    "   ```\n",
    "3. Indexing easy\n",
    "   ```codeblock\n",
    "   # 2-D list \n",
    "   \n",
    "   #With list \n",
    "   nums2 = [ [1, 2, 3], [4, 5, 6] ] \n",
    "   [row[0] for row in nums2] \n",
    "   output: [1, 4] \n",
    "\n",
    "   #With numpy array\n",
    "   nums2_np = np.array(nums2)\n",
    "   nums2_np[:,0] \n",
    "   array([1, 4]) \n",
    "   ```\n"
   ]
  },
  {
   "cell_type": "markdown",
   "metadata": {},
   "source": [
    "### 2. Timing and profiling code\n",
    "\n",
    "\n",
    "Ipython packages used:\n",
    "pip install line_profiler\n",
    "\n",
    "### 2.1 %timeit\n",
    "* %timeit - Time processing one line.\n",
    "* %%timeit - Time processing for More lines.\n",
    "\n",
    "Seing the number of runs (-r ) and/or loops (-n ).\n",
    "\n",
    "Saving the output to a variable (-o ) \n"
   ]
  },
  {
   "cell_type": "code",
   "execution_count": 7,
   "metadata": {},
   "outputs": [
    {
     "name": "stdout",
     "output_type": "stream",
     "text": [
      "Requirement already satisfied: line_profiler in c:\\users\\danie\\tutorial\\python\\data_enginer_python\\venv\\lib\\site-packages (4.0.1)\n"
     ]
    },
    {
     "name": "stderr",
     "output_type": "stream",
     "text": [
      "\n",
      "[notice] A new release of pip available: 22.3 -> 22.3.1\n",
      "[notice] To update, run: python.exe -m pip install --upgrade pip\n"
     ]
    },
    {
     "name": "stdout",
     "output_type": "stream",
     "text": [
      "Requirement already satisfied: memory_profiler in c:\\users\\danie\\tutorial\\python\\data_enginer_python\\venv\\lib\\site-packages (0.61.0)\n",
      "Requirement already satisfied: psutil in c:\\users\\danie\\tutorial\\python\\data_enginer_python\\venv\\lib\\site-packages (from memory_profiler) (5.9.4)\n"
     ]
    },
    {
     "name": "stderr",
     "output_type": "stream",
     "text": [
      "\n",
      "[notice] A new release of pip available: 22.3 -> 22.3.1\n",
      "[notice] To update, run: python.exe -m pip install --upgrade pip\n"
     ]
    }
   ],
   "source": [
    "!pip install line_profiler\n",
    "!pip install memory_profiler\n",
    "\n",
    "%load_ext line_profiler\n",
    "%load_ext memory_profiler"
   ]
  },
  {
   "cell_type": "code",
   "execution_count": 8,
   "metadata": {},
   "outputs": [
    {
     "name": "stdout",
     "output_type": "stream",
     "text": [
      "7.31 µs ± 213 ns per loop (mean ± std. dev. of 7 runs, 100,000 loops each)\n",
      "The slowest run took 5.02 times longer than the fastest. This could mean that an intermediate result is being cached.\n",
      "19.5 µs ± 13 µs per loop (mean ± std. dev. of 2 runs, 10 loops each)\n"
     ]
    }
   ],
   "source": [
    "# %timeit\n",
    "import numpy as np\n",
    "\n",
    "%timeit randnums = np.random.rand(1000)\n",
    "%timeit -r2 -n10 rand_nums = np.random.rand(1000) "
   ]
  },
  {
   "cell_type": "code",
   "execution_count": 9,
   "metadata": {},
   "outputs": [
    {
     "name": "stdout",
     "output_type": "stream",
     "text": [
      "7.15 µs ± 107 ns per loop (mean ± std. dev. of 7 runs, 100,000 loops each)\n",
      "timings: [7.332626000006712e-06, 7.143642000000909e-06, 7.1302379999997354e-06, 7.226225999993403e-06, 7.166563000000678e-06, 7.06107100000736e-06, 6.96833300000435e-06]\n",
      "best time: 6.96833300000435e-06\n",
      "worst time: 7.332626000006712e-06\n"
     ]
    }
   ],
   "source": [
    "# %timeit Saving the output to a variable\n",
    "times = %timeit -o rand_nums = np.random.rand(1000) \n",
    "\n",
    "print(\"timings:\", times.timings)\n",
    "print(\"best time:\", times.best)\n",
    "print(\"worst time:\", times.worst)\n"
   ]
  },
  {
   "cell_type": "code",
   "execution_count": 10,
   "metadata": {},
   "outputs": [
    {
     "name": "stdout",
     "output_type": "stream",
     "text": [
      "50.4 ns ± 0.856 ns per loop (mean ± std. dev. of 7 runs, 10,000,000 loops each)\n",
      "23.9 ns ± 0.603 ns per loop (mean ± std. dev. of 7 runs, 10,000,000 loops each)\n",
      "l_time better than f_time by 26.580888571412032 ns\n"
     ]
    }
   ],
   "source": [
    "# %timeit diference average\n",
    "\n",
    "f_time = %timeit -o formal_dict = dict() \n",
    "l_time = %timeit -o literal_dict = {} \n",
    "\n",
    "diff = (f_time.average - l_time.average) * (10**9)\n",
    "print('l_time better than f_time by {} ns'.format(diff))"
   ]
  },
  {
   "cell_type": "markdown",
   "metadata": {},
   "source": [
    "### 2.2 Code profiling: line_profiler\n",
    "\n",
    "* Magic command for line-by-line times\n",
    "    *\n",
    "```codeblock\n",
    "%lprun -f convert_units convert_units(heroes, hts, wts) \n",
    "```\n",
    "\n",
    "* Detailed stats on memory consumption: needs to be a separate file\n",
    "    *\n",
    "```codeblock\n",
    "%lprun -f convert_units convert_units(heroes, hts, wts) \n",
    "```\n"
   ]
  },
  {
   "cell_type": "code",
   "execution_count": 13,
   "metadata": {},
   "outputs": [
    {
     "name": "stdout",
     "output_type": "stream",
     "text": [
      "The line_profiler extension is already loaded. To reload it, use:\n",
      "  %reload_ext line_profiler\n"
     ]
    },
    {
     "ename": "NameError",
     "evalue": "name 'heroes' is not defined",
     "output_type": "error",
     "traceback": [
      "\u001b[1;31m---------------------------------------------------------------------------\u001b[0m",
      "\u001b[1;31mNameError\u001b[0m                                 Traceback (most recent call last)",
      "Cell \u001b[1;32mIn [13], line 13\u001b[0m\n\u001b[0;32m      8\u001b[0m         hero_data[hero] \u001b[39m=\u001b[39m (new_hts[i], new_wts[i])\n\u001b[0;32m     10\u001b[0m     \u001b[39mreturn\u001b[39;00m hero_data\n\u001b[1;32m---> 13\u001b[0m get_ipython()\u001b[39m.\u001b[39;49mrun_line_magic(\u001b[39m'\u001b[39;49m\u001b[39mlprun\u001b[39;49m\u001b[39m'\u001b[39;49m, \u001b[39m'\u001b[39;49m\u001b[39m-f convert_units convert_units(heroes, hts, wts)\u001b[39;49m\u001b[39m'\u001b[39;49m)\n",
      "File \u001b[1;32m~\\Tutorial\\Python\\data_enginer_python\\venv\\Lib\\site-packages\\IPython\\core\\interactiveshell.py:2364\u001b[0m, in \u001b[0;36mInteractiveShell.run_line_magic\u001b[1;34m(self, magic_name, line, _stack_depth)\u001b[0m\n\u001b[0;32m   2362\u001b[0m     kwargs[\u001b[39m'\u001b[39m\u001b[39mlocal_ns\u001b[39m\u001b[39m'\u001b[39m] \u001b[39m=\u001b[39m \u001b[39mself\u001b[39m\u001b[39m.\u001b[39mget_local_scope(stack_depth)\n\u001b[0;32m   2363\u001b[0m \u001b[39mwith\u001b[39;00m \u001b[39mself\u001b[39m\u001b[39m.\u001b[39mbuiltin_trap:\n\u001b[1;32m-> 2364\u001b[0m     result \u001b[39m=\u001b[39m fn(\u001b[39m*\u001b[39;49margs, \u001b[39m*\u001b[39;49m\u001b[39m*\u001b[39;49mkwargs)\n\u001b[0;32m   2365\u001b[0m \u001b[39mreturn\u001b[39;00m result\n",
      "File \u001b[1;32m~\\Tutorial\\Python\\data_enginer_python\\venv\\Lib\\site-packages\\line_profiler\\ipython_extension.py:104\u001b[0m, in \u001b[0;36mLineProfilerMagics.lprun\u001b[1;34m(self, parameter_s)\u001b[0m\n\u001b[0;32m    102\u001b[0m \u001b[39mtry\u001b[39;00m:\n\u001b[0;32m    103\u001b[0m     \u001b[39mtry\u001b[39;00m:\n\u001b[1;32m--> 104\u001b[0m         profile\u001b[39m.\u001b[39;49mrunctx(arg_str, global_ns, local_ns)\n\u001b[0;32m    105\u001b[0m         message \u001b[39m=\u001b[39m \u001b[39m\"\u001b[39m\u001b[39m\"\u001b[39m\n\u001b[0;32m    106\u001b[0m     \u001b[39mexcept\u001b[39;00m \u001b[39mSystemExit\u001b[39;00m:\n",
      "File \u001b[1;32m~\\Tutorial\\Python\\data_enginer_python\\venv\\Lib\\site-packages\\line_profiler\\line_profiler.py:160\u001b[0m, in \u001b[0;36mLineProfiler.runctx\u001b[1;34m(self, cmd, globals, locals)\u001b[0m\n\u001b[0;32m    158\u001b[0m \u001b[39mself\u001b[39m\u001b[39m.\u001b[39menable_by_count()\n\u001b[0;32m    159\u001b[0m \u001b[39mtry\u001b[39;00m:\n\u001b[1;32m--> 160\u001b[0m     exec(cmd, \u001b[39mglobals\u001b[39;49m, \u001b[39mlocals\u001b[39;49m)\n\u001b[0;32m    161\u001b[0m \u001b[39mfinally\u001b[39;00m:\n\u001b[0;32m    162\u001b[0m     \u001b[39mself\u001b[39m\u001b[39m.\u001b[39mdisable_by_count()\n",
      "File \u001b[1;32m<string>:1\u001b[0m\n",
      "\u001b[1;31mNameError\u001b[0m: name 'heroes' is not defined"
     ]
    }
   ],
   "source": [
    "%load_ext line_profiler\n",
    "\n",
    "heroes = ['Batman', 'Superman', 'Wonder Woman']\n",
    "hts = np.array([188.0, 191.0, 183.0])\n",
    "wts = np.array([95.0, 101.0,  74.0])\n",
    "\n",
    "\n",
    "def convert_units(heroes, heights, weights):\n",
    "    new_hts = [ht * 0.39370 for ht in heights]\n",
    "    new_wts = [wt * 2.20462 for wt in weights]\n",
    "    hero_data = {}\n",
    "    for i, hero in enumerate(heroes):\n",
    "        hero_data[hero] = (new_hts[i], new_wts[i])\n",
    "\n",
    "    return hero_data\n",
    "\n",
    "\n",
    "%lprun - f convert_units convert_units(heroes, hts, wts)\n"
   ]
  },
  {
   "cell_type": "code",
   "execution_count": 12,
   "metadata": {},
   "outputs": [
    {
     "name": "stdout",
     "output_type": "stream",
     "text": [
      "The memory_profiler extension is already loaded. To reload it, use:\n",
      "  %reload_ext memory_profiler\n"
     ]
    },
    {
     "ename": "NameError",
     "evalue": "name 'heroes' is not defined",
     "output_type": "error",
     "traceback": [
      "\u001b[1;31m---------------------------------------------------------------------------\u001b[0m",
      "\u001b[1;31mNameError\u001b[0m                                 Traceback (most recent call last)",
      "Cell \u001b[1;32mIn [12], line 5\u001b[0m\n\u001b[0;32m      1\u001b[0m get_ipython()\u001b[39m.\u001b[39mrun_line_magic(\u001b[39m'\u001b[39m\u001b[39mload_ext\u001b[39m\u001b[39m'\u001b[39m, \u001b[39m'\u001b[39m\u001b[39mmemory_profiler\u001b[39m\u001b[39m'\u001b[39m)\n\u001b[0;32m      3\u001b[0m \u001b[39mfrom\u001b[39;00m \u001b[39mhero_funcs\u001b[39;00m \u001b[39mimport\u001b[39;00m convert_units\n\u001b[1;32m----> 5\u001b[0m get_ipython()\u001b[39m.\u001b[39;49mrun_line_magic(\u001b[39m'\u001b[39;49m\u001b[39mmprun\u001b[39;49m\u001b[39m'\u001b[39;49m, \u001b[39m'\u001b[39;49m\u001b[39m-f convert_units convert_units(heroes, hts, wts)\u001b[39;49m\u001b[39m'\u001b[39;49m)\n",
      "File \u001b[1;32m~\\Tutorial\\Python\\data_enginer_python\\venv\\Lib\\site-packages\\IPython\\core\\interactiveshell.py:2364\u001b[0m, in \u001b[0;36mInteractiveShell.run_line_magic\u001b[1;34m(self, magic_name, line, _stack_depth)\u001b[0m\n\u001b[0;32m   2362\u001b[0m     kwargs[\u001b[39m'\u001b[39m\u001b[39mlocal_ns\u001b[39m\u001b[39m'\u001b[39m] \u001b[39m=\u001b[39m \u001b[39mself\u001b[39m\u001b[39m.\u001b[39mget_local_scope(stack_depth)\n\u001b[0;32m   2363\u001b[0m \u001b[39mwith\u001b[39;00m \u001b[39mself\u001b[39m\u001b[39m.\u001b[39mbuiltin_trap:\n\u001b[1;32m-> 2364\u001b[0m     result \u001b[39m=\u001b[39m fn(\u001b[39m*\u001b[39;49margs, \u001b[39m*\u001b[39;49m\u001b[39m*\u001b[39;49mkwargs)\n\u001b[0;32m   2365\u001b[0m \u001b[39mreturn\u001b[39;00m result\n",
      "File \u001b[1;32m~\\Tutorial\\Python\\data_enginer_python\\venv\\Lib\\site-packages\\memory_profiler.py:990\u001b[0m, in \u001b[0;36mMemoryProfilerMagics.mprun\u001b[1;34m(self, parameter_s, cell)\u001b[0m\n\u001b[0;32m    987\u001b[0m builtins\u001b[39m.\u001b[39m\u001b[39m__dict__\u001b[39m[\u001b[39m'\u001b[39m\u001b[39mprofile\u001b[39m\u001b[39m'\u001b[39m] \u001b[39m=\u001b[39m profile\n\u001b[0;32m    989\u001b[0m \u001b[39mtry\u001b[39;00m:\n\u001b[1;32m--> 990\u001b[0m     profile\u001b[39m.\u001b[39;49mrunctx(arg_str, global_ns, local_ns)\n\u001b[0;32m    991\u001b[0m     message \u001b[39m=\u001b[39m \u001b[39m'\u001b[39m\u001b[39m'\u001b[39m\n\u001b[0;32m    992\u001b[0m \u001b[39mexcept\u001b[39;00m \u001b[39mSystemExit\u001b[39;00m:\n",
      "File \u001b[1;32m~\\Tutorial\\Python\\data_enginer_python\\venv\\Lib\\site-packages\\memory_profiler.py:770\u001b[0m, in \u001b[0;36mLineProfiler.runctx\u001b[1;34m(self, cmd, globals, locals)\u001b[0m\n\u001b[0;32m    768\u001b[0m \u001b[39mself\u001b[39m\u001b[39m.\u001b[39menable_by_count()\n\u001b[0;32m    769\u001b[0m \u001b[39mtry\u001b[39;00m:\n\u001b[1;32m--> 770\u001b[0m     exec(cmd, \u001b[39mglobals\u001b[39;49m, \u001b[39mlocals\u001b[39;49m)\n\u001b[0;32m    771\u001b[0m \u001b[39mfinally\u001b[39;00m:\n\u001b[0;32m    772\u001b[0m     \u001b[39mself\u001b[39m\u001b[39m.\u001b[39mdisable_by_count()\n",
      "File \u001b[1;32m<string>:1\u001b[0m\n",
      "\u001b[1;31mNameError\u001b[0m: name 'heroes' is not defined"
     ]
    }
   ],
   "source": [
    "%load_ext memory_profiler \n",
    "\n",
    "from hero_funcs import convert_units\n",
    "\n",
    "%mprun -f convert_units convert_units(heroes, hts, wts) "
   ]
  },
  {
   "cell_type": "code",
   "execution_count": null,
   "metadata": {},
   "outputs": [],
   "source": []
  }
 ],
 "metadata": {
  "kernelspec": {
   "display_name": "Python 3 (ipykernel)",
   "language": "python",
   "name": "python3"
  },
  "language_info": {
   "codemirror_mode": {
    "name": "ipython",
    "version": 3
   },
   "file_extension": ".py",
   "mimetype": "text/x-python",
   "name": "python",
   "nbconvert_exporter": "python",
   "pygments_lexer": "ipython3",
   "version": "3.11.0"
  },
  "vscode": {
   "interpreter": {
    "hash": "db2a495bf2de7a8ffabc70a2c1ac07c3f86be5414f55feabf700f9badefe2d02"
   }
  }
 },
 "nbformat": 4,
 "nbformat_minor": 2
}
