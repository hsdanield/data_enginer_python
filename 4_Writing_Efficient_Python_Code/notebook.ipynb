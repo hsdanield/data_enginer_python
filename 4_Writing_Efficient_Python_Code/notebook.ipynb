{
 "cells": [
  {
   "cell_type": "code",
   "execution_count": 3,
   "metadata": {},
   "outputs": [],
   "source": [
    "# importing libs\n",
    "import pandas as pd\n",
    "import numpy as np"
   ]
  },
  {
   "cell_type": "markdown",
   "metadata": {},
   "source": [
    "## 1. Writing efficient Python code\n",
    "\n",
    "### 1.1 Defining efficient \n",
    "\n",
    "* Minimal completion time (fast runtime)\n",
    "* Minimal resource consumption (small memory footprint)\n",
    "\n",
    "### 1.2 Defining Pythonic\n",
    "* Focus on readability\n",
    "* Using Python's constructs as intended"
   ]
  },
  {
   "cell_type": "code",
   "execution_count": 4,
   "metadata": {},
   "outputs": [
    {
     "name": "stdout",
     "output_type": "stream",
     "text": [
      "Print the list created using the Non-Pythonic approach\n",
      "['Kramer', 'Elaine', 'George', 'Newman'] \n",
      "\n",
      "Print the list created by looping over the contents of names\n",
      "['Kramer', 'Elaine', 'George', 'Newman'] \n",
      "\n",
      "The best Pythonic way of doing this is by using list comprehension.\n",
      "['Kramer', 'Elaine', 'George', 'Newman']\n"
     ]
    }
   ],
   "source": [
    "# Print the list created using the Non-Pythonic approach\n",
    "\n",
    "names = ['Jerry', 'Kramer', 'Elaine', 'George', 'Newman']\n",
    "\n",
    "i = 0\n",
    "new_list = []\n",
    "while i < len(names):\n",
    "    if len(names[i]) >= 6:\n",
    "        new_list.append(names[i])\n",
    "    i += 1\n",
    "\n",
    "print(\"Print the list created using the Non-Pythonic approach\")\n",
    "print(new_list, \"\\n\")\n",
    "\n",
    "# Print the list created by looping over the contents of names\n",
    "better_list = []\n",
    "for name in names:\n",
    "    if len(name) >= 6:\n",
    "        better_list.append(name)\n",
    "print(\"Print the list created by looping over the contents of names\")\n",
    "print(better_list, \"\\n\")\n",
    "\n",
    "#The best Pythonic way of doing this is by using list comprehension.\n",
    "best_list = [name for name in names if len(name) >= 6]\n",
    "print(\"The best Pythonic way of doing this is by using list comprehension.\")\n",
    "print(best_list)\n"
   ]
  },
  {
   "cell_type": "code",
   "execution_count": 5,
   "metadata": {},
   "outputs": [
    {
     "name": "stdout",
     "output_type": "stream",
     "text": [
      "The Zen of Python, by Tim Peters\n",
      "\n",
      "Beautiful is better than ugly.\n",
      "Explicit is better than implicit.\n",
      "Simple is better than complex.\n",
      "Complex is better than complicated.\n",
      "Flat is better than nested.\n",
      "Sparse is better than dense.\n",
      "Readability counts.\n",
      "Special cases aren't special enough to break the rules.\n",
      "Although practicality beats purity.\n",
      "Errors should never pass silently.\n",
      "Unless explicitly silenced.\n",
      "In the face of ambiguity, refuse the temptation to guess.\n",
      "There should be one-- and preferably only one --obvious way to do it.\n",
      "Although that way may not be obvious at first unless you're Dutch.\n",
      "Now is better than never.\n",
      "Although never is often better than *right* now.\n",
      "If the implementation is hard to explain, it's a bad idea.\n",
      "If the implementation is easy to explain, it may be a good idea.\n",
      "Namespaces are one honking great idea -- let's do more of those!\n"
     ]
    }
   ],
   "source": [
    "# Zen of Python\n",
    "import this\n",
    "### 1.3 Building with built-ins"
   ]
  },
  {
   "cell_type": "markdown",
   "metadata": {},
   "source": [
    "* Built-in types\n",
    "  * list, tuple, set, dict and others.\n",
    "* Built-in functions\n",
    "  * print() , len() , range() , round() , enumerate() , map() , zip() , and others.\n",
    "* Built-in modules \n",
    "  * os , sys , itertools , collections , math , and others.\n",
    "\n",
    "1.3.1 Built-in functions\n",
    "### range() \n",
    "```codeblock\n",
    "  # Explicitly typing a list of numbers \n",
    "  nums = [0, 1, 2, 3, 4, 5, 6, 7, 8, 9, 10]\n",
    "\n",
    "  #Using range() to create the same list \n",
    "  range(start,stop) \n",
    "  nums = range(0,11) \n",
    "  nums_list = list(nums) \n",
    "  # output: [0, 1, 2, 3, 4, 5, 6, 7, 8, 9, 10] \n",
    "\n",
    "  # Using range() with a step value\n",
    "  even_nums = range(2, 11, 2) \n",
    "  even_nums_list = list(even_nums) \n",
    "  # output: [2, 4, 6, 8, 10] \n",
    "```\n",
    "\n",
    "### enumerate()\n",
    "\n",
    "Creates an indexed list of objects \n",
    "```codeblock\n",
    "  letters = ['a', 'b', 'c', 'd' ]\n",
    "  indexed_letters = enumerate(letters)\n",
    "  indexed_letters_list = list(indexed_letters) print(indexed_letters_list) \n",
    "  # output: [(0, 'a'), (1, 'b'), (2, 'c'), (3, 'd')] \n",
    "```\n",
    "\n",
    "Can specify a start value \n",
    "```codeblock\n",
    "  letters = ['a', 'b', 'c', 'd' ]\n",
    "  indexed_letters2 = enumerate(letters, start=5)\n",
    "  indexed_letters2_list = list(indexed_letters2)\n",
    "  # output: [(5, 'a'), (6, 'b'), (7, 'c'), (8, 'd')] \n",
    "```\n",
    "\n",
    "### map()\n",
    "\n",
    "Applies a function over an object \n",
    "```codeblock\n",
    "  nums = [1.5, 2.3, 3.4, 4.6, 5.0] \n",
    "  rnd_nums = list(map(round, nums))\n",
    "  output: [2, 2, 3, 5, 5] \n",
    "```\n",
    "with lambda (anonymous function) \n",
    "```codeblock\n",
    "  nums = [1, 2, 3, 4, 5] \n",
    "  sqrd_nums = list(map(lambda x: x ** 2, nums))\n",
    "  output: [1, 4, 9, 16, 25] \n",
    "```"
   ]
  },
  {
   "cell_type": "code",
   "execution_count": 6,
   "metadata": {},
   "outputs": [
    {
     "name": "stdout",
     "output_type": "stream",
     "text": [
      "<class 'range'>\n",
      "[0, 1, 2, 3, 4, 5]\n",
      "[1, 3, 5, 7, 9, 11]\n"
     ]
    }
   ],
   "source": [
    "# Example with range()\n",
    "\n",
    "# Create a range object that goes from 0 to 5\n",
    "nums = range(0, 6)\n",
    "print(type(nums))\n",
    "\n",
    "# Convert nums to a list\n",
    "nums_list = list(nums)\n",
    "print(nums_list)\n",
    "\n",
    "# Create a new list of odd numbers from 1 to 11 by unpacking a range object, (*) unpacking a range object using the star character (*).\n",
    "nums_list2 = [*range(1, 12, 2)]\n",
    "print(nums_list2)"
   ]
  },
  {
   "cell_type": "code",
   "execution_count": 7,
   "metadata": {},
   "outputs": [
    {
     "name": "stdout",
     "output_type": "stream",
     "text": [
      "[(0, 'Jerry'), (1, 'Kramer'), (2, 'Elaine'), (3, 'George'), (4, 'Newman')]\n",
      "[(0, 'Jerry'), (1, 'Kramer'), (2, 'Elaine'), (3, 'George'), (4, 'Newman')]\n",
      "[(1, 'Jerry'), (2, 'Kramer'), (3, 'Elaine'), (4, 'George'), (5, 'Newman')]\n"
     ]
    }
   ],
   "source": [
    "# Example with enumerate  ()\n",
    "names = ['Jerry', 'Kramer', 'Elaine', 'George', 'Newman']\n",
    "\n",
    "# Rewrite the for loop to use enumerate\n",
    "indexed_names = []\n",
    "for i, name in enumerate(names):\n",
    "    index_name = (i,name)\n",
    "    indexed_names.append(index_name) \n",
    "print(indexed_names)\n",
    "\n",
    "# Rewrite the above for loop using list comprehension\n",
    "indexed_names_comp = [(i, name) for i,name in enumerate(names)]\n",
    "print(indexed_names_comp)\n",
    "\n",
    "# Unpack an enumerate object with a starting index of one\n",
    "indexed_names_unpack = [*enumerate(names, start=1)]\n",
    "print(indexed_names_unpack)"
   ]
  },
  {
   "cell_type": "code",
   "execution_count": 8,
   "metadata": {},
   "outputs": [
    {
     "name": "stdout",
     "output_type": "stream",
     "text": [
      "['JERRY', 'KRAMER', 'ELAINE', 'GEORGE', 'NEWMAN']\n",
      "[]\n"
     ]
    }
   ],
   "source": [
    "# Example with map  ()\n",
    "names = ['Jerry', 'Kramer', 'Elaine', 'George', 'Newman']\n",
    "\n",
    "# Use map to apply str.upper to each element in names\n",
    "names_map  = map(str.upper, names)\n",
    "\n",
    "# Print the type of the names_map\n",
    "print(list(names_map))\n",
    "\n",
    "# Unpack names_map into a list\n",
    "names_uppercase = [*names_map]\n",
    "\n",
    "# Print the list created above / not work\n",
    "print(names_uppercase)"
   ]
  },
  {
   "cell_type": "markdown",
   "metadata": {},
   "source": [
    "### 1.4 The power of NumPy arrays\n",
    "Alternative to Python lists\n",
    "\n",
    "```codeblock\n",
    "    nums_list = list(range(5)) #output [0,1,2,3,4]\n",
    "\n",
    "    nums_np = np.array(range(5))  #output array([0,1,2,3,4])\n",
    "```\n",
    "\n",
    "1. NumPy array homogeneity = unique type \n",
    "2. NumPy array broadcasting \n",
    "   ```codeblock\n",
    "   # Python lists don't support broadcasting\n",
    "   nums = [-2, -1, 0, 1, 2] \n",
    "   nums ** 2 \n",
    "   output: TypeError: unsupported operand type(s) for ** or pow(): 'list' and 'int' \n",
    "\n",
    "    # List comprehension (better option but not best) \n",
    "    nums = [-2, -1, 0, 1, 2] \n",
    "    sqrd_nums  = [num ** 2 for num in nums] \n",
    "    output: [4, 1, 0, 1, 4] \n",
    "\n",
    "    #NumPy array broadcasting for the win! \n",
    "    nums_np = np.array([-2, -1, 0, 1, 2]) \n",
    "    nums_np ** 2 \n",
    "    \n",
    "   ```\n",
    "3. Indexing easy\n",
    "   ```codeblock\n",
    "   # 2-D list \n",
    "   \n",
    "   #With list \n",
    "   nums2 = [ [1, 2, 3], [4, 5, 6] ] \n",
    "   [row[0] for row in nums2] \n",
    "   output: [1, 4] \n",
    "\n",
    "   #With numpy array\n",
    "   nums2_np = np.array(nums2)\n",
    "   nums2_np[:,0] \n",
    "   array([1, 4]) \n",
    "   ```\n"
   ]
  },
  {
   "cell_type": "markdown",
   "metadata": {},
   "source": [
    "### 2. Timing and profiling code\n",
    "\n",
    "\n",
    "Ipython packages used:\n",
    "pip install line_profiler\n",
    "\n",
    "### 2.1 %timeit\n",
    "* %timeit - Time processing one line.\n",
    "* %%timeit - Time processing for More lines.\n",
    "\n",
    "Seing the number of runs (-r ) and/or loops (-n ).\n",
    "\n",
    "Saving the output to a variable (-o ) \n"
   ]
  },
  {
   "cell_type": "code",
   "execution_count": 9,
   "metadata": {},
   "outputs": [
    {
     "name": "stdout",
     "output_type": "stream",
     "text": [
      "Collecting line_profiler\n",
      "  Downloading line_profiler-4.0.1-cp310-cp310-manylinux_2_17_x86_64.manylinux2014_x86_64.whl (653 kB)\n",
      "\u001b[2K     \u001b[90m━━━━━━━━━━━━━━━━━━━━━━━━━━━━━━━━━━━━━━━\u001b[0m \u001b[32m653.4/653.4 kB\u001b[0m \u001b[31m9.5 MB/s\u001b[0m eta \u001b[36m0:00:00\u001b[0ma \u001b[36m0:00:01\u001b[0m\n",
      "\u001b[?25hInstalling collected packages: line_profiler\n",
      "Successfully installed line_profiler-4.0.1\n",
      "\n",
      "\u001b[1m[\u001b[0m\u001b[34;49mnotice\u001b[0m\u001b[1;39;49m]\u001b[0m\u001b[39;49m A new release of pip available: \u001b[0m\u001b[31;49m22.3\u001b[0m\u001b[39;49m -> \u001b[0m\u001b[32;49m22.3.1\u001b[0m\n",
      "\u001b[1m[\u001b[0m\u001b[34;49mnotice\u001b[0m\u001b[1;39;49m]\u001b[0m\u001b[39;49m To update, run: \u001b[0m\u001b[32;49mpython -m pip install --upgrade pip\u001b[0m\n",
      "Collecting memory_profiler\n",
      "  Downloading memory_profiler-0.61.0-py3-none-any.whl (31 kB)\n",
      "Requirement already satisfied: psutil in /home/codespace/.local/lib/python3.10/site-packages (from memory_profiler) (5.9.3)\n",
      "Installing collected packages: memory_profiler\n",
      "Successfully installed memory_profiler-0.61.0\n",
      "\n",
      "\u001b[1m[\u001b[0m\u001b[34;49mnotice\u001b[0m\u001b[1;39;49m]\u001b[0m\u001b[39;49m A new release of pip available: \u001b[0m\u001b[31;49m22.3\u001b[0m\u001b[39;49m -> \u001b[0m\u001b[32;49m22.3.1\u001b[0m\n",
      "\u001b[1m[\u001b[0m\u001b[34;49mnotice\u001b[0m\u001b[1;39;49m]\u001b[0m\u001b[39;49m To update, run: \u001b[0m\u001b[32;49mpython -m pip install --upgrade pip\u001b[0m\n"
     ]
    }
   ],
   "source": [
    "!pip install line_profiler\n",
    "!pip install memory_profiler\n",
    "\n",
    "%load_ext line_profiler\n",
    "%load_ext memory_profiler"
   ]
  },
  {
   "cell_type": "code",
   "execution_count": 10,
   "metadata": {},
   "outputs": [
    {
     "name": "stdout",
     "output_type": "stream",
     "text": [
      "8.95 µs ± 1.1 µs per loop (mean ± std. dev. of 7 runs, 100,000 loops each)\n",
      "The slowest run took 5.32 times longer than the fastest. This could mean that an intermediate result is being cached.\n",
      "23.8 µs ± 16.3 µs per loop (mean ± std. dev. of 2 runs, 10 loops each)\n"
     ]
    }
   ],
   "source": [
    "# %timeit\n",
    "import numpy as np\n",
    "\n",
    "%timeit randnums = np.random.rand(1000)\n",
    "%timeit -r2 -n10 rand_nums = np.random.rand(1000) "
   ]
  },
  {
   "cell_type": "code",
   "execution_count": 11,
   "metadata": {},
   "outputs": [
    {
     "name": "stdout",
     "output_type": "stream",
     "text": [
      "9.29 µs ± 1.02 µs per loop (mean ± std. dev. of 7 runs, 100,000 loops each)\n",
      "timings: [1.1243194249999533e-05, 8.36301795000054e-06, 8.984463549999191e-06, 9.593133820000048e-06, 8.543068469999753e-06, 8.184759479999002e-06, 1.0111128830000098e-05]\n",
      "best time: 8.184759479999002e-06\n",
      "worst time: 1.1243194249999533e-05\n"
     ]
    }
   ],
   "source": [
    "# %timeit Saving the output to a variable\n",
    "times = %timeit -o rand_nums = np.random.rand(1000) \n",
    "\n",
    "print(\"timings:\", times.timings)\n",
    "print(\"best time:\", times.best)\n",
    "print(\"worst time:\", times.worst)\n"
   ]
  },
  {
   "cell_type": "code",
   "execution_count": 12,
   "metadata": {},
   "outputs": [
    {
     "name": "stdout",
     "output_type": "stream",
     "text": [
      "77.4 ns ± 10.4 ns per loop (mean ± std. dev. of 7 runs, 10,000,000 loops each)\n",
      "30.4 ns ± 3.31 ns per loop (mean ± std. dev. of 7 runs, 10,000,000 loops each)\n",
      "l_time better than f_time by 47.0560757857129 ns\n"
     ]
    }
   ],
   "source": [
    "# %timeit diference average\n",
    "\n",
    "f_time = %timeit -o formal_dict = dict() \n",
    "l_time = %timeit -o literal_dict = {} \n",
    "\n",
    "diff = (f_time.average - l_time.average) * (10**9)\n",
    "print('l_time better than f_time by {} ns'.format(diff))"
   ]
  },
  {
   "cell_type": "markdown",
   "metadata": {},
   "source": [
    "### 2.2 Code profiling: line_profiler\n",
    "\n",
    "* Magic command for line-by-line times\n",
    "    *\n",
    "```codeblock\n",
    "%lprun -f convert_units convert_units(heroes, hts, wts) \n",
    "```\n",
    "\n",
    "* Detailed stats on memory consumption: needs to be a separate file\n",
    "    *\n",
    "```codeblock\n",
    "%lprun -f convert_units convert_units(heroes, hts, wts) \n",
    "```\n"
   ]
  },
  {
   "cell_type": "code",
   "execution_count": 14,
   "metadata": {},
   "outputs": [
    {
     "name": "stdout",
     "output_type": "stream",
     "text": [
      "The line_profiler extension is already loaded. To reload it, use:\n",
      "  %reload_ext line_profiler\n"
     ]
    },
    {
     "name": "stdout",
     "output_type": "stream",
     "text": [
      "Timer unit: 1e-09 s\n",
      "\n",
      "Total time: 2.3001e-05 s\n",
      "File: /tmp/ipykernel_8282/1994859564.py\n",
      "Function: convert_units at line 8\n",
      "\n",
      "Line #      Hits         Time  Per Hit   % Time  Line Contents\n",
      "==============================================================\n",
      "     8                                           def convert_units(heroes, heights, weights):\n",
      "     9         1      15501.0  15501.0     67.4      new_hts = [ht * 0.39370 for ht in heights]\n",
      "    10         1       3000.0   3000.0     13.0      new_wts = [wt * 2.20462 for wt in weights]\n",
      "    11         1        300.0    300.0      1.3      hero_data = {}\n",
      "    12         3       2400.0    800.0     10.4      for i, hero in enumerate(heroes):\n",
      "    13         3       1600.0    533.3      7.0          hero_data[hero] = (new_hts[i], new_wts[i])\n",
      "    14                                           \n",
      "    15         1        200.0    200.0      0.9      return hero_data"
     ]
    }
   ],
   "source": [
    "%load_ext line_profiler\n",
    "\n",
    "heroes = ['Batman', 'Superman', 'Wonder Woman']\n",
    "hts = np.array([188.0, 191.0, 183.0])\n",
    "wts = np.array([95.0, 101.0,  74.0])\n",
    "\n",
    "\n",
    "def convert_units(heroes, heights, weights):\n",
    "    new_hts = [ht * 0.39370 for ht in heights]\n",
    "    new_wts = [wt * 2.20462 for wt in weights]\n",
    "    hero_data = {}\n",
    "    for i, hero in enumerate(heroes):\n",
    "        hero_data[hero] = (new_hts[i], new_wts[i])\n",
    "\n",
    "    return hero_data\n",
    "\n",
    "\n",
    "%lprun -f convert_units convert_units(heroes, hts, wts)\n"
   ]
  },
  {
   "cell_type": "code",
   "execution_count": 15,
   "metadata": {},
   "outputs": [
    {
     "name": "stdout",
     "output_type": "stream",
     "text": [
      "The memory_profiler extension is already loaded. To reload it, use:\n",
      "  %reload_ext memory_profiler\n",
      "\n"
     ]
    },
    {
     "name": "stdout",
     "output_type": "stream",
     "text": [
      "Filename: /workspaces/data_enginer_python/4_Writing_Efficient_Python_Code/hero_funcs.py\n",
      "\n",
      "Line #    Mem usage    Increment  Occurrences   Line Contents\n",
      "=============================================================\n",
      "     1    107.5 MiB    107.5 MiB           1   def convert_units(heroes, heights, weights):\n",
      "     2    107.5 MiB      0.0 MiB           6       new_hts = [ht * 0.39370 for ht in heights]\n",
      "     3    107.5 MiB      0.0 MiB           6       new_wts = [wt * 2.20462 for wt in weights]\n",
      "     4    107.5 MiB      0.0 MiB           1       hero_data = {}\n",
      "     5    107.5 MiB      0.0 MiB           4       for i, hero in enumerate(heroes):\n",
      "     6    107.5 MiB      0.0 MiB           3           hero_data[hero] = (new_hts[i], new_wts[i])\n",
      "     7                                         \n",
      "     8    107.5 MiB      0.0 MiB           1       return hero_data"
     ]
    }
   ],
   "source": [
    "%load_ext memory_profiler \n",
    "\n",
    "from hero_funcs import convert_units\n",
    "\n",
    "%mprun -f convert_units convert_units(heroes, hts, wts) "
   ]
  },
  {
   "cell_type": "markdown",
   "metadata": {},
   "source": [
    "## 3. Efficiently combining, counting, and iterating\n",
    "\n",
    "### 3.1. Combining objects"
   ]
  },
  {
   "cell_type": "code",
   "execution_count": null,
   "metadata": {},
   "outputs": [],
   "source": [
    "names = ['Bulbasaur', 'Charmander', 'Squirtle']\n",
    "hps = [45, 39, 44]"
   ]
  },
  {
   "cell_type": "code",
   "execution_count": 19,
   "metadata": {},
   "outputs": [
    {
     "name": "stdout",
     "output_type": "stream",
     "text": [
      "[('Bulbasaur', 45), ('Charmander', 39), ('Squirtle', 44)]\n"
     ]
    }
   ],
   "source": [
    "# Combining with enumerate\n",
    "\n",
    "combined = []\n",
    "for i,pokemon in enumerate(names):\n",
    "    combined.append((pokemon, hps[i]))\n",
    "print(combined)"
   ]
  },
  {
   "cell_type": "code",
   "execution_count": 20,
   "metadata": {},
   "outputs": [
    {
     "name": "stdout",
     "output_type": "stream",
     "text": [
      "[('Bulbasaur', 45), ('Charmander', 39), ('Squirtle', 44)]\n"
     ]
    }
   ],
   "source": [
    "# Combining with zip\n",
    "combined_zip = [*zip(names, hps)]\n",
    "print(combined_zip)"
   ]
  },
  {
   "cell_type": "markdown",
   "metadata": {},
   "source": [
    "### 3.2. Counting"
   ]
  },
  {
   "cell_type": "code",
   "execution_count": 36,
   "metadata": {},
   "outputs": [
    {
     "name": "stdout",
     "output_type": "stream",
     "text": [
      "{'Grass': 64, 'Psychic': 46, 'Dark': 28, 'Bug': 65, 'Rock': 41, 'Steel': 21, 'Normal': 92, 'Water': 105, 'Dragon': 25, 'Electric': 40, 'Poison': 28, 'Fire': 48, 'Fairy': 17, 'Ice': 23, 'Ground': 30, 'Ghost': 20, 'Fighting': 25, 'Flying': 2}\n"
     ]
    }
   ],
   "source": [
    "#Counting with loop primary_types (bad practice)\n",
    "\n",
    "pokemon = pd.read_json(\"data/pokemon.json\")\n",
    "\n",
    "poke_types = pokemon[\"primary_types\"].values\n",
    "\n",
    "type_counts = {}\n",
    "for poke_type in poke_types:\n",
    "    if poke_type not in type_counts:\n",
    "         type_counts[poke_type] = 1 \n",
    "    else: \n",
    "        type_counts[poke_type] += 1\n",
    "print(type_counts) \n"
   ]
  },
  {
   "cell_type": "code",
   "execution_count": 37,
   "metadata": {},
   "outputs": [
    {
     "name": "stdout",
     "output_type": "stream",
     "text": [
      "Counter({'Water': 105, 'Normal': 92, 'Bug': 65, 'Grass': 64, 'Fire': 48, 'Psychic': 46, 'Rock': 41, 'Electric': 40, 'Ground': 30, 'Dark': 28, 'Poison': 28, 'Dragon': 25, 'Fighting': 25, 'Ice': 23, 'Steel': 21, 'Ghost': 20, 'Fairy': 17, 'Flying': 2})\n"
     ]
    }
   ],
   "source": [
    "#Counting without loop primary_types \n",
    "from collections import Counter\n",
    "\n",
    "type_counts = Counter(poke_types) \n",
    "print(type_counts) "
   ]
  },
  {
   "cell_type": "markdown",
   "metadata": {},
   "source": [
    "### 3.2. Combinations "
   ]
  },
  {
   "cell_type": "code",
   "execution_count": 38,
   "metadata": {},
   "outputs": [
    {
     "name": "stdout",
     "output_type": "stream",
     "text": [
      "[('Grass', 'Psychic'), ('Grass', 'Dark'), ('Grass', 'Bug'), ('Grass', 'Rock'), ('Grass', 'Steel'), ('Grass', 'Normal'), ('Grass', 'Water'), ('Grass', 'Dragon'), ('Grass', 'Electric'), ('Grass', 'Poison'), ('Grass', 'Fire'), ('Grass', 'Fairy'), ('Grass', 'Ice'), ('Grass', 'Ground'), ('Grass', 'Ghost'), ('Grass', 'Fighting'), ('Grass', 'Flying'), ('Psychic', 'Dark'), ('Psychic', 'Bug'), ('Psychic', 'Rock'), ('Psychic', 'Steel'), ('Psychic', 'Normal'), ('Psychic', 'Water'), ('Psychic', 'Dragon'), ('Psychic', 'Electric'), ('Psychic', 'Poison'), ('Psychic', 'Fire'), ('Psychic', 'Fairy'), ('Psychic', 'Ice'), ('Psychic', 'Ground'), ('Psychic', 'Ghost'), ('Psychic', 'Fighting'), ('Psychic', 'Flying'), ('Dark', 'Bug'), ('Dark', 'Rock'), ('Dark', 'Steel'), ('Dark', 'Normal'), ('Dark', 'Water'), ('Dark', 'Dragon'), ('Dark', 'Electric'), ('Dark', 'Poison'), ('Dark', 'Fire'), ('Dark', 'Fairy'), ('Dark', 'Ice'), ('Dark', 'Ground'), ('Dark', 'Ghost'), ('Dark', 'Fighting'), ('Dark', 'Flying'), ('Bug', 'Rock'), ('Bug', 'Steel'), ('Bug', 'Normal'), ('Bug', 'Water'), ('Bug', 'Dragon'), ('Bug', 'Electric'), ('Bug', 'Poison'), ('Bug', 'Fire'), ('Bug', 'Fairy'), ('Bug', 'Ice'), ('Bug', 'Ground'), ('Bug', 'Ghost'), ('Bug', 'Fighting'), ('Bug', 'Flying'), ('Rock', 'Steel'), ('Rock', 'Normal'), ('Rock', 'Water'), ('Rock', 'Dragon'), ('Rock', 'Electric'), ('Rock', 'Poison'), ('Rock', 'Fire'), ('Rock', 'Fairy'), ('Rock', 'Ice'), ('Rock', 'Ground'), ('Rock', 'Ghost'), ('Rock', 'Fighting'), ('Rock', 'Flying'), ('Steel', 'Normal'), ('Steel', 'Water'), ('Steel', 'Dragon'), ('Steel', 'Electric'), ('Steel', 'Poison'), ('Steel', 'Fire'), ('Steel', 'Fairy'), ('Steel', 'Ice'), ('Steel', 'Ground'), ('Steel', 'Ghost'), ('Steel', 'Fighting'), ('Steel', 'Flying'), ('Normal', 'Water'), ('Normal', 'Dragon'), ('Normal', 'Electric'), ('Normal', 'Poison'), ('Normal', 'Fire'), ('Normal', 'Fairy'), ('Normal', 'Ice'), ('Normal', 'Ground'), ('Normal', 'Ghost'), ('Normal', 'Fighting'), ('Normal', 'Flying'), ('Water', 'Dragon'), ('Water', 'Electric'), ('Water', 'Poison'), ('Water', 'Fire'), ('Water', 'Fairy'), ('Water', 'Ice'), ('Water', 'Ground'), ('Water', 'Ghost'), ('Water', 'Fighting'), ('Water', 'Flying'), ('Dragon', 'Electric'), ('Dragon', 'Poison'), ('Dragon', 'Fire'), ('Dragon', 'Fairy'), ('Dragon', 'Ice'), ('Dragon', 'Ground'), ('Dragon', 'Ghost'), ('Dragon', 'Fighting'), ('Dragon', 'Flying'), ('Electric', 'Poison'), ('Electric', 'Fire'), ('Electric', 'Fairy'), ('Electric', 'Ice'), ('Electric', 'Ground'), ('Electric', 'Ghost'), ('Electric', 'Fighting'), ('Electric', 'Flying'), ('Poison', 'Fire'), ('Poison', 'Fairy'), ('Poison', 'Ice'), ('Poison', 'Ground'), ('Poison', 'Ghost'), ('Poison', 'Fighting'), ('Poison', 'Flying'), ('Fire', 'Fairy'), ('Fire', 'Ice'), ('Fire', 'Ground'), ('Fire', 'Ghost'), ('Fire', 'Fighting'), ('Fire', 'Flying'), ('Fairy', 'Ice'), ('Fairy', 'Ground'), ('Fairy', 'Ghost'), ('Fairy', 'Fighting'), ('Fairy', 'Flying'), ('Ice', 'Ground'), ('Ice', 'Ghost'), ('Ice', 'Fighting'), ('Ice', 'Flying'), ('Ground', 'Ghost'), ('Ground', 'Fighting'), ('Ground', 'Flying'), ('Ghost', 'Fighting'), ('Ghost', 'Flying'), ('Fighting', 'Flying')]\n"
     ]
    }
   ],
   "source": [
    "#Combination with Loop (bad practice)\n",
    "\n",
    "combos = [] \n",
    "\n",
    "poke_types = pokemon[\"primary_types\"].values\n",
    "\n",
    "for x in poke_types:\n",
    "     for y in poke_types:\n",
    "        if x == y:\n",
    "             continue\n",
    "        if ((x,y) not in combos) & ((y,x) not in combos):\n",
    "             combos.append((x,y))\n",
    "print(combos) "
   ]
  },
  {
   "cell_type": "code",
   "execution_count": 41,
   "metadata": {},
   "outputs": [
    {
     "name": "stdout",
     "output_type": "stream",
     "text": [
      "<class 'itertools.combinations'>\n",
      "[('Grass', 'Psychic'), ('Grass', 'Dark'), ('Grass', 'Bug'), ('Grass', 'Rock'), ('Grass', 'Steel'), ('Grass', 'Normal'), ('Grass', 'Psychic'), ('Grass', 'Water'), ('Grass', 'Dragon'), ('Grass', 'Rock')]\n"
     ]
    }
   ],
   "source": [
    "#Combination without Loop (best practice)\n",
    "\n",
    "from itertools import combinations\n",
    "\n",
    "combos_obj = combinations(poke_types, 2)\n",
    "print(type(combos_obj)) \n",
    "\n",
    "print([*combos_obj][:10])"
   ]
  },
  {
   "cell_type": "markdown",
   "metadata": {},
   "source": [
    "### 3.3. Combinations with Set"
   ]
  },
  {
   "cell_type": "code",
   "execution_count": 49,
   "metadata": {},
   "outputs": [
    {
     "name": "stdout",
     "output_type": "stream",
     "text": [
      "set_a:  {'Squirtle', 'Charmander', 'Bulbasaur'}\n",
      "set_b: {'Squirtle', 'Caterpie', 'Pidgey'}\n",
      "Set Intersection\n",
      "intersection set_a & set_b: {'Squirtle'}\n",
      "Set Difference\n",
      "Difference set_b - set_a: {'Caterpie', 'Pidgey'}\n",
      "Set Difference\n",
      "Difference set_a - set_b: {'Charmander', 'Bulbasaur'}\n",
      "Set Symmetric Difference\n",
      "symmetric_difference: {'Bulbasaur', 'Charmander', 'Caterpie', 'Pidgey'}\n",
      "Set Union\n",
      "union: {'Charmander', 'Squirtle', 'Bulbasaur', 'Pidgey', 'Caterpie'}\n"
     ]
    }
   ],
   "source": [
    "list_a = ['Bulbasaur', 'Charmander', 'Squirtle']\n",
    "list_b = ['Caterpie', 'Pidgey', 'Squirtle']  \n",
    "\n",
    "set_a = set(list_a)\n",
    "print(\"set_a: \", set_a) \n",
    "\n",
    "set_b = set(list_b)\n",
    "print(\"set_b:\", set_b) \n",
    "\n",
    "#Intersection > Its more efficient time \n",
    "print(\"Set Intersection\")\n",
    "intersection = set_a.intersection(set_b)\n",
    "print(\"intersection set_a & set_b:\", intersection)\n",
    "\n",
    "print(\"Set Difference\")\n",
    "difference = set_b.difference(set_a) \n",
    "print(\"Difference set_b - set_a:\", difference)\n",
    "\n",
    "print(\"Set Difference\")\n",
    "difference = set_a.difference(set_b) \n",
    "print(\"Difference set_a - set_b:\", difference)\n",
    "\n",
    "print(\"Set Symmetric Difference\")\n",
    "symmetric_difference = set_a.symmetric_difference(set_b)\n",
    "print(\"symmetric_difference:\", symmetric_difference)\n",
    "\n",
    "print(\"Set Union\")\n",
    "union = set_a.union(set_b)\n",
    "print(\"union:\", union)"
   ]
  },
  {
   "cell_type": "markdown",
   "metadata": {},
   "source": []
  }
 ],
 "metadata": {
  "kernelspec": {
   "display_name": "Python 3.10.4 64-bit",
   "language": "python",
   "name": "python3"
  },
  "language_info": {
   "codemirror_mode": {
    "name": "ipython",
    "version": 3
   },
   "file_extension": ".py",
   "mimetype": "text/x-python",
   "name": "python",
   "nbconvert_exporter": "python",
   "pygments_lexer": "ipython3",
   "version": "3.10.4"
  },
  "vscode": {
   "interpreter": {
    "hash": "3ad933181bd8a04b432d3370b9dc3b0662ad032c4dfaa4e4f1596c548f763858"
   }
  }
 },
 "nbformat": 4,
 "nbformat_minor": 2
}
