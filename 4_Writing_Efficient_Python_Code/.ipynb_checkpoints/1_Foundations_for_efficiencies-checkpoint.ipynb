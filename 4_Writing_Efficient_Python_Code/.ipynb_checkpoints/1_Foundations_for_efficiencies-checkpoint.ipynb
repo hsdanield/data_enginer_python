{
 "cells": [
  {
   "cell_type": "code",
   "execution_count": 1,
   "metadata": {},
   "outputs": [],
   "source": [
    "# importing libs\n",
    "import pandas as pd\n",
    "import numpy as np"
   ]
  },
  {
   "cell_type": "markdown",
   "metadata": {},
   "source": [
    "## 1. Writing efficient Python code\n",
    "\n",
    "### 1.1 Defining efficient \n",
    "\n",
    "* Minimal completion time (fast runtime)\n",
    "* Minimal resource consumption (small memory footprint)\n",
    "\n",
    "### 1.2 Defining Pythonic\n",
    "* Focus on readability\n",
    "* Using Python's constructs as intended"
   ]
  },
  {
   "cell_type": "code",
   "execution_count": 2,
   "metadata": {},
   "outputs": [
    {
     "name": "stdout",
     "output_type": "stream",
     "text": [
      "Print the list created using the Non-Pythonic approach\n",
      "['Kramer', 'Elaine', 'George', 'Newman'] \n",
      "\n",
      "Print the list created by looping over the contents of names\n",
      "['Kramer', 'Elaine', 'George', 'Newman'] \n",
      "\n",
      "The best Pythonic way of doing this is by using list comprehension.\n",
      "['Kramer', 'Elaine', 'George', 'Newman']\n"
     ]
    }
   ],
   "source": [
    "# Print the list created using the Non-Pythonic approach\n",
    "\n",
    "names = ['Jerry', 'Kramer', 'Elaine', 'George', 'Newman']\n",
    "\n",
    "i = 0\n",
    "new_list = []\n",
    "while i < len(names):\n",
    "    if len(names[i]) >= 6:\n",
    "        new_list.append(names[i])\n",
    "    i += 1\n",
    "\n",
    "print(\"Print the list created using the Non-Pythonic approach\")\n",
    "print(new_list, \"\\n\")\n",
    "\n",
    "# Print the list created by looping over the contents of names\n",
    "better_list = []\n",
    "for name in names:\n",
    "    if len(name) >= 6:\n",
    "        better_list.append(name)\n",
    "print(\"Print the list created by looping over the contents of names\")\n",
    "print(better_list, \"\\n\")\n",
    "\n",
    "#The best Pythonic way of doing this is by using list comprehension.\n",
    "best_list = [name for name in names if len(name) >= 6]\n",
    "print(\"The best Pythonic way of doing this is by using list comprehension.\")\n",
    "print(best_list)\n"
   ]
  },
  {
   "cell_type": "code",
   "execution_count": 3,
   "metadata": {},
   "outputs": [
    {
     "name": "stdout",
     "output_type": "stream",
     "text": [
      "The Zen of Python, by Tim Peters\n",
      "\n",
      "Beautiful is better than ugly.\n",
      "Explicit is better than implicit.\n",
      "Simple is better than complex.\n",
      "Complex is better than complicated.\n",
      "Flat is better than nested.\n",
      "Sparse is better than dense.\n",
      "Readability counts.\n",
      "Special cases aren't special enough to break the rules.\n",
      "Although practicality beats purity.\n",
      "Errors should never pass silently.\n",
      "Unless explicitly silenced.\n",
      "In the face of ambiguity, refuse the temptation to guess.\n",
      "There should be one-- and preferably only one --obvious way to do it.\n",
      "Although that way may not be obvious at first unless you're Dutch.\n",
      "Now is better than never.\n",
      "Although never is often better than *right* now.\n",
      "If the implementation is hard to explain, it's a bad idea.\n",
      "If the implementation is easy to explain, it may be a good idea.\n",
      "Namespaces are one honking great idea -- let's do more of those!\n"
     ]
    }
   ],
   "source": [
    "# Zen of Python\n",
    "import this\n",
    "### 1.3 Building with built-ins"
   ]
  },
  {
   "cell_type": "markdown",
   "metadata": {},
   "source": [
    "* Built-in types\n",
    "  * list, tuple, set, dict and others.\n",
    "* Built-in functions\n",
    "  * print() , len() , range() , round() , enumerate() , map() , zip() , and others.\n",
    "* Built-in modules \n",
    "  * os , sys , itertools , collections , math , and others.\n",
    "\n",
    "1.3.1 Built-in functions\n",
    "### range() \n",
    "```codeblock\n",
    "  # Explicitly typing a list of numbers \n",
    "  nums = [0, 1, 2, 3, 4, 5, 6, 7, 8, 9, 10]\n",
    "\n",
    "  #Using range() to create the same list \n",
    "  range(start,stop) \n",
    "  nums = range(0,11) \n",
    "  nums_list = list(nums) \n",
    "  # output: [0, 1, 2, 3, 4, 5, 6, 7, 8, 9, 10] \n",
    "\n",
    "  # Using range() with a step value\n",
    "  even_nums = range(2, 11, 2) \n",
    "  even_nums_list = list(even_nums) \n",
    "  # output: [2, 4, 6, 8, 10] \n",
    "```\n",
    "\n",
    "### enumerate()\n",
    "\n",
    "Creates an indexed list of objects \n",
    "```codeblock\n",
    "  letters = ['a', 'b', 'c', 'd' ]\n",
    "  indexed_letters = enumerate(letters)\n",
    "  indexed_letters_list = list(indexed_letters) print(indexed_letters_list) \n",
    "  # output: [(0, 'a'), (1, 'b'), (2, 'c'), (3, 'd')] \n",
    "```\n",
    "\n",
    "Can specify a start value \n",
    "```codeblock\n",
    "  letters = ['a', 'b', 'c', 'd' ]\n",
    "  indexed_letters2 = enumerate(letters, start=5)\n",
    "  indexed_letters2_list = list(indexed_letters2)\n",
    "  # output: [(5, 'a'), (6, 'b'), (7, 'c'), (8, 'd')] \n",
    "```\n",
    "\n",
    "### map()\n",
    "\n",
    "Applies a function over an object \n",
    "```codeblock\n",
    "  nums = [1.5, 2.3, 3.4, 4.6, 5.0] \n",
    "  rnd_nums = list(map(round, nums))\n",
    "  output: [2, 2, 3, 5, 5] \n",
    "```\n",
    "with lambda (anonymous function) \n",
    "```codeblock\n",
    "  nums = [1, 2, 3, 4, 5] \n",
    "  sqrd_nums = list(map(lambda x: x ** 2, nums))\n",
    "  output: [1, 4, 9, 16, 25] \n",
    "```"
   ]
  },
  {
   "cell_type": "code",
   "execution_count": 4,
   "metadata": {},
   "outputs": [
    {
     "name": "stdout",
     "output_type": "stream",
     "text": [
      "<class 'range'>\n",
      "[0, 1, 2, 3, 4, 5]\n",
      "[1, 3, 5, 7, 9, 11]\n"
     ]
    }
   ],
   "source": [
    "# Example with range()\n",
    "\n",
    "# Create a range object that goes from 0 to 5\n",
    "nums = range(0, 6)\n",
    "print(type(nums))\n",
    "\n",
    "# Convert nums to a list\n",
    "nums_list = list(nums)\n",
    "print(nums_list)\n",
    "\n",
    "# Create a new list of odd numbers from 1 to 11 by unpacking a range object, (*) unpacking a range object using the star character (*).\n",
    "nums_list2 = [*range(1, 12, 2)]\n",
    "print(nums_list2)"
   ]
  },
  {
   "cell_type": "code",
   "execution_count": 5,
   "metadata": {},
   "outputs": [
    {
     "name": "stdout",
     "output_type": "stream",
     "text": [
      "[(0, 'Jerry'), (1, 'Kramer'), (2, 'Elaine'), (3, 'George'), (4, 'Newman')]\n",
      "[(0, 'Jerry'), (1, 'Kramer'), (2, 'Elaine'), (3, 'George'), (4, 'Newman')]\n",
      "[(1, 'Jerry'), (2, 'Kramer'), (3, 'Elaine'), (4, 'George'), (5, 'Newman')]\n"
     ]
    }
   ],
   "source": [
    "# Example with enumerate  ()\n",
    "names = ['Jerry', 'Kramer', 'Elaine', 'George', 'Newman']\n",
    "\n",
    "# Rewrite the for loop to use enumerate\n",
    "indexed_names = []\n",
    "for i, name in enumerate(names):\n",
    "    index_name = (i,name)\n",
    "    indexed_names.append(index_name) \n",
    "print(indexed_names)\n",
    "\n",
    "# Rewrite the above for loop using list comprehension\n",
    "indexed_names_comp = [(i, name) for i,name in enumerate(names)]\n",
    "print(indexed_names_comp)\n",
    "\n",
    "# Unpack an enumerate object with a starting index of one\n",
    "indexed_names_unpack = [*enumerate(names, start=1)]\n",
    "print(indexed_names_unpack)"
   ]
  },
  {
   "cell_type": "code",
   "execution_count": 6,
   "metadata": {},
   "outputs": [
    {
     "name": "stdout",
     "output_type": "stream",
     "text": [
      "['JERRY', 'KRAMER', 'ELAINE', 'GEORGE', 'NEWMAN']\n",
      "[]\n"
     ]
    }
   ],
   "source": [
    "# Example with map  ()\n",
    "names = ['Jerry', 'Kramer', 'Elaine', 'George', 'Newman']\n",
    "\n",
    "# Use map to apply str.upper to each element in names\n",
    "names_map  = map(str.upper, names)\n",
    "\n",
    "# Print the type of the names_map\n",
    "print(list(names_map))\n",
    "\n",
    "# Unpack names_map into a list\n",
    "names_uppercase = [*names_map]\n",
    "\n",
    "# Print the list created above / not work\n",
    "print(names_uppercase)"
   ]
  },
  {
   "cell_type": "markdown",
   "metadata": {},
   "source": [
    "### 1.4 The power of NumPy arrays\n",
    "Alternative to Python lists\n",
    "\n",
    "```codeblock\n",
    "    nums_list = list(range(5)) #output [0,1,2,3,4]\n",
    "\n",
    "    nums_np = np.array(range(5))  #output array([0,1,2,3,4])\n",
    "```\n",
    "\n",
    "1. NumPy array homogeneity = unique type \n",
    "2. NumPy array broadcasting \n",
    "   ```codeblock\n",
    "   # Python lists don't support broadcasting\n",
    "   nums = [-2, -1, 0, 1, 2] \n",
    "   nums ** 2 \n",
    "   output: TypeError: unsupported operand type(s) for ** or pow(): 'list' and 'int' \n",
    "\n",
    "    # List comprehension (better option but not best) \n",
    "    nums = [-2, -1, 0, 1, 2] \n",
    "    sqrd_nums  = [num ** 2 for num in nums] \n",
    "    output: [4, 1, 0, 1, 4] \n",
    "\n",
    "    #NumPy array broadcasting for the win! \n",
    "    nums_np = np.array([-2, -1, 0, 1, 2]) \n",
    "    nums_np ** 2 \n",
    "    \n",
    "   ```\n",
    "3. Indexing easy\n",
    "   ```codeblock\n",
    "   # 2-D list \n",
    "   \n",
    "   #With list \n",
    "   nums2 = [ [1, 2, 3], [4, 5, 6] ] \n",
    "   [row[0] for row in nums2] \n",
    "   output: [1, 4] \n",
    "\n",
    "   #With numpy array\n",
    "   nums2_np = np.array(nums2)\n",
    "   nums2_np[:,0] \n",
    "   array([1, 4]) \n",
    "   ```\n"
   ]
  },
  {
   "cell_type": "markdown",
   "metadata": {},
   "source": [
    "### 2. Timing and profiling code\n",
    "\n",
    "\n",
    "Ipython packages used:\n",
    "pip install line_profiler\n",
    "\n",
    "### 2.1 %timeit\n",
    "* %timeit - Time processing one line.\n",
    "* %%timeit - Time processing for More lines.\n",
    "\n",
    "Seing the number of runs (-r ) and/or loops (-n ).\n",
    "\n",
    "Saving the output to a variable (-o ) \n"
   ]
  },
  {
   "cell_type": "code",
   "execution_count": 17,
   "metadata": {},
   "outputs": [
    {
     "name": "stdout",
     "output_type": "stream",
     "text": [
      "Requirement already satisfied: line_profiler in c:\\users\\danie\\anaconda3\\lib\\site-packages (4.0.1)\n",
      "Collecting memory_profiler\n",
      "  Downloading memory_profiler-0.61.0-py3-none-any.whl (31 kB)\n",
      "Requirement already satisfied: psutil in c:\\users\\danie\\anaconda3\\lib\\site-packages (from memory_profiler) (5.8.0)\n",
      "Installing collected packages: memory_profiler\n",
      "Successfully installed memory_profiler-0.61.0\n",
      "The line_profiler extension is already loaded. To reload it, use:\n",
      "  %reload_ext line_profiler\n"
     ]
    }
   ],
   "source": [
    "!pip install line_profiler\n",
    "!pip install memory_profiler\n",
    "\n",
    "%load_ext line_profiler\n",
    "%load_ext memory_profiler"
   ]
  },
  {
   "cell_type": "code",
   "execution_count": 8,
   "metadata": {},
   "outputs": [
    {
     "name": "stdout",
     "output_type": "stream",
     "text": [
      "6.75 µs ± 40.8 ns per loop (mean ± std. dev. of 7 runs, 100,000 loops each)\n",
      "The slowest run took 4.82 times longer than the fastest. This could mean that an intermediate result is being cached.\n",
      "18.2 µs ± 11.9 µs per loop (mean ± std. dev. of 2 runs, 10 loops each)\n"
     ]
    }
   ],
   "source": [
    "# %timeit\n",
    "import numpy as np\n",
    "\n",
    "%timeit randnums = np.random.rand(1000)\n",
    "%timeit -r2 -n10 rand_nums = np.random.rand(1000) "
   ]
  },
  {
   "cell_type": "code",
   "execution_count": 9,
   "metadata": {},
   "outputs": [
    {
     "name": "stdout",
     "output_type": "stream",
     "text": [
      "7.09 µs ± 221 ns per loop (mean ± std. dev. of 7 runs, 100,000 loops each)\n",
      "timings: [7.292395999999996e-06, 7.0141840000000145e-06, 7.344881000000001e-06, 7.358443999999995e-06, 7.023351000000009e-06, 6.813566000000009e-06, 6.813354999999994e-06]\n",
      "best time: 6.813354999999994e-06\n",
      "worst time: 7.358443999999995e-06\n"
     ]
    }
   ],
   "source": [
    "# %timeit Saving the output to a variable\n",
    "times = %timeit -o rand_nums = np.random.rand(1000) \n",
    "\n",
    "print(\"timings:\", times.timings)\n",
    "print(\"best time:\", times.best)\n",
    "print(\"worst time:\", times.worst)\n"
   ]
  },
  {
   "cell_type": "code",
   "execution_count": 10,
   "metadata": {},
   "outputs": [
    {
     "name": "stdout",
     "output_type": "stream",
     "text": [
      "69.5 ns ± 0.723 ns per loop (mean ± std. dev. of 7 runs, 10,000,000 loops each)\n",
      "21 ns ± 0.333 ns per loop (mean ± std. dev. of 7 runs, 10,000,000 loops each)\n",
      "l_time better than f_time by 48.55505285714291 ns\n"
     ]
    }
   ],
   "source": [
    "# %timeit diference average\n",
    "\n",
    "f_time = %timeit -o formal_dict = dict() \n",
    "l_time = %timeit -o literal_dict = {} \n",
    "\n",
    "diff = (f_time.average - l_time.average) * (10**9)\n",
    "print('l_time better than f_time by {} ns'.format(diff))"
   ]
  },
  {
   "cell_type": "markdown",
   "metadata": {},
   "source": [
    "### 2.2 Code profiling: line_profiler\n",
    "\n",
    "* Magic command for line-by-line times\n",
    "    *\n",
    "```codeblock\n",
    "%lprun -f convert_units convert_units(heroes, hts, wts) \n",
    "```\n",
    "\n",
    "* Detailed stats on memory consumption:\n",
    "```codeblock\n",
    "%lprun -f convert_units convert_units(heroes, hts, wts) \n",
    "```\n"
   ]
  },
  {
   "cell_type": "code",
   "execution_count": 20,
   "metadata": {},
   "outputs": [
    {
     "name": "stdout",
     "output_type": "stream",
     "text": [
      "The line_profiler extension is already loaded. To reload it, use:\n",
      "  %reload_ext line_profiler\n"
     ]
    }
   ],
   "source": [
    "%load_ext line_profiler \n",
    "%lprun -f convert_units convert_units(heroes, hts, wts) "
   ]
  },
  {
   "cell_type": "code",
   "execution_count": 21,
   "metadata": {},
   "outputs": [
    {
     "name": "stdout",
     "output_type": "stream",
     "text": [
      "The memory_profiler extension is already loaded. To reload it, use:\n",
      "  %reload_ext memory_profiler\n",
      "ERROR: Could not find file C:\\Users\\danie\\AppData\\Local\\Temp\\ipykernel_7084\\652077195.py\n",
      "\n"
     ]
    }
   ],
   "source": [
    "%load_ext memory_profiler \n",
    "%mprun -f convert_units convert_units(heroes, hts, wts) "
   ]
  },
  {
   "cell_type": "code",
   "execution_count": null,
   "metadata": {},
   "outputs": [],
   "source": []
  }
 ],
 "metadata": {
  "kernelspec": {
   "display_name": "Python 3 (ipykernel)",
   "language": "python",
   "name": "python3"
  },
  "language_info": {
   "codemirror_mode": {
    "name": "ipython",
    "version": 3
   },
   "file_extension": ".py",
   "mimetype": "text/x-python",
   "name": "python",
   "nbconvert_exporter": "python",
   "pygments_lexer": "ipython3",
   "version": "3.9.12"
  },
  "vscode": {
   "interpreter": {
    "hash": "db2a495bf2de7a8ffabc70a2c1ac07c3f86be5414f55feabf700f9badefe2d02"
   }
  }
 },
 "nbformat": 4,
 "nbformat_minor": 2
}
